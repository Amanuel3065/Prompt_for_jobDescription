{
 "cells": [
  {
   "cell_type": "code",
   "execution_count": 1,
   "metadata": {},
   "outputs": [],
   "source": [
    "import pandas as pd\n",
    "import cohere\n",
    "from sklearn.model_selection import train_test_split\n",
    "pd.set_option('display.max_colwidth', None)"
   ]
  },
  {
   "cell_type": "code",
   "execution_count": 10,
   "metadata": {},
   "outputs": [],
   "source": [
    "import dvc.api\n",
    "\n",
    "source =  dvc.api.get_url(\"data/Example_data.csv\",\n",
    "    repo=\"https://github.com/Amanuel3065/Prompt_for_jobDescription\")\n"
   ]
  },
  {
   "cell_type": "code",
   "execution_count": 12,
   "metadata": {},
   "outputs": [],
   "source": [
    "\n",
    "df = pd.read_csv('../data/Example_data.csv')\n"
   ]
  },
  {
   "cell_type": "code",
   "execution_count": 14,
   "metadata": {},
   "outputs": [],
   "source": [
    "from csv import list_dialects\n",
    "\n",
    "\n",
    "sentences_train,sentences_test,labels_train,labels_test = train_test_split(list(df['Body']),\n",
    "                                                                           list(df['Analyst_Average_Score']),\n",
    "                                                                           test_size=0.25, random_state=0)"
   ]
  },
  {
   "cell_type": "code",
   "execution_count": 15,
   "metadata": {},
   "outputs": [],
   "source": [
    "#Get Embeddings\n",
    "\n",
    "import creds\n",
    "\n",
    "co = cohere.Client(creds.api_key)"
   ]
  },
  {
   "cell_type": "code",
   "execution_count": 16,
   "metadata": {},
   "outputs": [],
   "source": [
    "#embed the training set\n",
    "embeddings_train = co.embed(texts=sentences_train,model=\"large\",truncate=\"LEFT\").embeddings\n",
    "\n",
    "#embed the testing set\n",
    "embeddings_test = co.embed(texts=sentences_test,model=\"large\",truncate=\"LEFT\").embeddings"
   ]
  },
  {
   "cell_type": "code",
   "execution_count": 17,
   "metadata": {},
   "outputs": [
    {
     "name": "stdout",
     "output_type": "stream",
     "text": [
      "Review text: Global and Regional Beta-Carotene Market Research 2020 Report | Growth Forecast 2025 key players! – DSM – BASF – Allied Biotech – Chr Hansen – LYCORED Beta-Carotene Market Global Beta-Carotene market provides an in-depth insight into the global market covering all its important chapters which are must read for key industry stakeholders. Report coverage include historical market performance, impact of COVID-19, post-covid scenario of market, forecast for six years, market dynamics including growth drivers, challenges, market opportunities, Porter’s five forces analysis, value chain analysis. It offers a detailed analysis for establishing value chain and market product across other countries. It also presents detailed insights of market segments, their future growth potential and analysis of countries. In addition to the above, the information is based on the partners that are highly competitive, key players as well as their market revenue in the forecast years of 2020 to 2025. There is also a strong focus on product revenues, sales, product categories and even the products that are experiencing the most traction. In this manner, the report also speaks about the effectiveness of the Beta-Carotene Market along with its growth during the forecast period of 2025. Get the inside scoop of the Sample report For FREE @ https://www.kdmarketinsights.com/sample/177 Segmentation The Global Beta-Carotene Market has been segmented on the basis of different aspects. The market is also segmented according to region. This segmentation has been followed with the goal of extracting insights into the Beta-Carotene Market that are both detailed as well as accurate. By Product Type – Natural Product Extraction – Chemical Synthesis – Microalgae Extraction – Fermentation Method By Application – Food and Beverages – Feed Supplement – Cosmetic Additives – Drug & Health Products – Others Regional Outlook: The Global Beta-Carotene Market has been segmented into Latin America, North America, Asia Pacific, Europe, and the Middle East & Africa on the basis of region – North America (U.S. & Canada) – Europe (Germany, United Kingdom, France, Italy, Spain, Russia, and Rest of Europe) – Asia Pacific (China, India, Japan, South Korea, Indonesia, Taiwan, Australia, New Zealand, and Rest of Asia Pacific) – Latin America (Brazil, Mexico, and Rest of Latin America) – Middle East & Africa (GCC (Saudi Arabia, UAE, Bahrain, Kuwait, Qatar, Oman), North Africa, South Africa, and Rest of Middle East & Africa) Request/View TOC @ https://www.kdmarketinsights.com/product/177/global-beta-carotene-market-2018-2023 Research Methodology The report has its roots definitely set in thorough strategies provided by the proficient data analysts. The research methodology involves the collection of information by analysts only to have them studied and filtered thoroughly in an attempt to provide significant predictions about the market over the review period. The research process further includes interviews with Beta-Carotene market influencers, which makes the primary research relevant and practical. The secondary method gives a direct peek into the demand and supply connection. The market methodologies adopted in the report offer precise data analysis and provides a Beta-Carotene market. The key players covered in this study The key players of the market are listed in this section of the study. It helps to understand the tactics and alliances that players concentrate on fighting market rivalry. An essential microscopic look at the market is given in the detailed study. The major players operating in the Global Beta-Carotene market are – – DSM – BASF – Allied Biotech – Chr Hansen – LYCORED – FMC Corporation – DDW – Zhejiang Medicine – HJ-Rise International – Zixin – Wuhan Stars – Others Major & Niche Key Players Drivers & Constraints The Global Beta-Carotene Market rests united with the incidence of leading players who keep funding to the market’s growth significantly every year. The report studies the value, volume trends, and the pricing structure of the market so that it could predict maximum growth in the future. Besides, various suppressed growth factors, restraints, and opportunities are also estimated for the advanced study and suggestions of the market over the assessment period. Request For Discount @ https://www.kdmarketinsights.com/discount/177 About us KD Market Insights offers a comprehensive database of syndicated research studies, customized reports, and consulting services. These reports are created to help in making smart, instant, and crucial decisions based on extensive and in-depth quantitative information, supported by extensive analysis and industry insights. Our dedicated in-house team ensures the reports satisfy the requirement of the client. We aim at providing value service to our clients. Our reports are backed by extensive industry coverage and is made sure to give importance to the specific needs of our clients. The main idea is to enable our clients to make an informed decision, by keeping them and ourselves up to date with the latest trends in the market. Contact Us: KD Market Insights 150 State Street, Albany, New York, USA 12207 +1 (518) 300-1215 Email: Website: www.kdmarketinsights.com\n",
      "Embedding vector: [-1.2385384, 0.8694959, 1.1613128, 0.7670185, -2.9847374, -0.49125618, 1.7082944, 0.017719539, 0.69053304, 0.9478758]\n"
     ]
    }
   ],
   "source": [
    "print(f\"Review text: {sentences_train[0]}\")\n",
    "print(f\"Embedding vector: {embeddings_train[0][:10]}\")"
   ]
  },
  {
   "cell_type": "code",
   "execution_count": 19,
   "metadata": {},
   "outputs": [],
   "source": [
    "##Train\n",
    "\n",
    "## import \n",
    "from sklearn.svm import SVC\n",
    "from sklearn.pipeline import make_pipeline\n",
    "from sklearn.preprocessing import StandardScaler\n",
    "\n",
    "svm_classifier = make_pipeline(StandardScaler(), SVC(class_weight='balanced'))\n"
   ]
  },
  {
   "cell_type": "code",
   "execution_count": 26,
   "metadata": {},
   "outputs": [
    {
     "name": "stdout",
     "output_type": "stream",
     "text": [
      "[0 0 0 2 0 0 1]\n",
      "[0 1 0]\n"
     ]
    }
   ],
   "source": [
    "#fit the svm, but first encode the continious categorical variable\n",
    "\n",
    "from sklearn import preprocessing\n",
    "from sklearn import utils\n",
    "\n",
    "#convert train labels values to categorical values\n",
    "lab = preprocessing.LabelEncoder()\n",
    "labels_train_cat = lab.fit_transform(labels_train)\n",
    "\n",
    "#convert test label values to categorical values\n",
    "lab = preprocessing.LabelEncoder()\n",
    "labels_test_cat = lab.fit_transform(labels_test)\n",
    "\n",
    "#view transformed values\n",
    "print(labels_train_cat)\n",
    "print(labels_test_cat)"
   ]
  },
  {
   "cell_type": "code",
   "execution_count": 23,
   "metadata": {},
   "outputs": [
    {
     "data": {
      "text/html": [
       "<style>#sk-container-id-1 {color: black;background-color: white;}#sk-container-id-1 pre{padding: 0;}#sk-container-id-1 div.sk-toggleable {background-color: white;}#sk-container-id-1 label.sk-toggleable__label {cursor: pointer;display: block;width: 100%;margin-bottom: 0;padding: 0.3em;box-sizing: border-box;text-align: center;}#sk-container-id-1 label.sk-toggleable__label-arrow:before {content: \"▸\";float: left;margin-right: 0.25em;color: #696969;}#sk-container-id-1 label.sk-toggleable__label-arrow:hover:before {color: black;}#sk-container-id-1 div.sk-estimator:hover label.sk-toggleable__label-arrow:before {color: black;}#sk-container-id-1 div.sk-toggleable__content {max-height: 0;max-width: 0;overflow: hidden;text-align: left;background-color: #f0f8ff;}#sk-container-id-1 div.sk-toggleable__content pre {margin: 0.2em;color: black;border-radius: 0.25em;background-color: #f0f8ff;}#sk-container-id-1 input.sk-toggleable__control:checked~div.sk-toggleable__content {max-height: 200px;max-width: 100%;overflow: auto;}#sk-container-id-1 input.sk-toggleable__control:checked~label.sk-toggleable__label-arrow:before {content: \"▾\";}#sk-container-id-1 div.sk-estimator input.sk-toggleable__control:checked~label.sk-toggleable__label {background-color: #d4ebff;}#sk-container-id-1 div.sk-label input.sk-toggleable__control:checked~label.sk-toggleable__label {background-color: #d4ebff;}#sk-container-id-1 input.sk-hidden--visually {border: 0;clip: rect(1px 1px 1px 1px);clip: rect(1px, 1px, 1px, 1px);height: 1px;margin: -1px;overflow: hidden;padding: 0;position: absolute;width: 1px;}#sk-container-id-1 div.sk-estimator {font-family: monospace;background-color: #f0f8ff;border: 1px dotted black;border-radius: 0.25em;box-sizing: border-box;margin-bottom: 0.5em;}#sk-container-id-1 div.sk-estimator:hover {background-color: #d4ebff;}#sk-container-id-1 div.sk-parallel-item::after {content: \"\";width: 100%;border-bottom: 1px solid gray;flex-grow: 1;}#sk-container-id-1 div.sk-label:hover label.sk-toggleable__label {background-color: #d4ebff;}#sk-container-id-1 div.sk-serial::before {content: \"\";position: absolute;border-left: 1px solid gray;box-sizing: border-box;top: 0;bottom: 0;left: 50%;z-index: 0;}#sk-container-id-1 div.sk-serial {display: flex;flex-direction: column;align-items: center;background-color: white;padding-right: 0.2em;padding-left: 0.2em;position: relative;}#sk-container-id-1 div.sk-item {position: relative;z-index: 1;}#sk-container-id-1 div.sk-parallel {display: flex;align-items: stretch;justify-content: center;background-color: white;position: relative;}#sk-container-id-1 div.sk-item::before, #sk-container-id-1 div.sk-parallel-item::before {content: \"\";position: absolute;border-left: 1px solid gray;box-sizing: border-box;top: 0;bottom: 0;left: 50%;z-index: -1;}#sk-container-id-1 div.sk-parallel-item {display: flex;flex-direction: column;z-index: 1;position: relative;background-color: white;}#sk-container-id-1 div.sk-parallel-item:first-child::after {align-self: flex-end;width: 50%;}#sk-container-id-1 div.sk-parallel-item:last-child::after {align-self: flex-start;width: 50%;}#sk-container-id-1 div.sk-parallel-item:only-child::after {width: 0;}#sk-container-id-1 div.sk-dashed-wrapped {border: 1px dashed gray;margin: 0 0.4em 0.5em 0.4em;box-sizing: border-box;padding-bottom: 0.4em;background-color: white;}#sk-container-id-1 div.sk-label label {font-family: monospace;font-weight: bold;display: inline-block;line-height: 1.2em;}#sk-container-id-1 div.sk-label-container {text-align: center;}#sk-container-id-1 div.sk-container {/* jupyter's `normalize.less` sets `[hidden] { display: none; }` but bootstrap.min.css set `[hidden] { display: none !important; }` so we also need the `!important` here to be able to override the default hidden behavior on the sphinx rendered scikit-learn.org. See: https://github.com/scikit-learn/scikit-learn/issues/21755 */display: inline-block !important;position: relative;}#sk-container-id-1 div.sk-text-repr-fallback {display: none;}</style><div id=\"sk-container-id-1\" class=\"sk-top-container\"><div class=\"sk-text-repr-fallback\"><pre>Pipeline(steps=[(&#x27;standardscaler&#x27;, StandardScaler()),\n",
       "                (&#x27;svc&#x27;, SVC(class_weight=&#x27;balanced&#x27;))])</pre><b>In a Jupyter environment, please rerun this cell to show the HTML representation or trust the notebook. <br />On GitHub, the HTML representation is unable to render, please try loading this page with nbviewer.org.</b></div><div class=\"sk-container\" hidden><div class=\"sk-item sk-dashed-wrapped\"><div class=\"sk-label-container\"><div class=\"sk-label sk-toggleable\"><input class=\"sk-toggleable__control sk-hidden--visually\" id=\"sk-estimator-id-1\" type=\"checkbox\" ><label for=\"sk-estimator-id-1\" class=\"sk-toggleable__label sk-toggleable__label-arrow\">Pipeline</label><div class=\"sk-toggleable__content\"><pre>Pipeline(steps=[(&#x27;standardscaler&#x27;, StandardScaler()),\n",
       "                (&#x27;svc&#x27;, SVC(class_weight=&#x27;balanced&#x27;))])</pre></div></div></div><div class=\"sk-serial\"><div class=\"sk-item\"><div class=\"sk-estimator sk-toggleable\"><input class=\"sk-toggleable__control sk-hidden--visually\" id=\"sk-estimator-id-2\" type=\"checkbox\" ><label for=\"sk-estimator-id-2\" class=\"sk-toggleable__label sk-toggleable__label-arrow\">StandardScaler</label><div class=\"sk-toggleable__content\"><pre>StandardScaler()</pre></div></div></div><div class=\"sk-item\"><div class=\"sk-estimator sk-toggleable\"><input class=\"sk-toggleable__control sk-hidden--visually\" id=\"sk-estimator-id-3\" type=\"checkbox\" ><label for=\"sk-estimator-id-3\" class=\"sk-toggleable__label sk-toggleable__label-arrow\">SVC</label><div class=\"sk-toggleable__content\"><pre>SVC(class_weight=&#x27;balanced&#x27;)</pre></div></div></div></div></div></div></div>"
      ],
      "text/plain": [
       "Pipeline(steps=[('standardscaler', StandardScaler()),\n",
       "                ('svc', SVC(class_weight='balanced'))])"
      ]
     },
     "execution_count": 23,
     "metadata": {},
     "output_type": "execute_result"
    }
   ],
   "source": [
    "\n",
    "svm_classifier.fit(embeddings_train, labels_train_cat)"
   ]
  },
  {
   "cell_type": "code",
   "execution_count": 27,
   "metadata": {},
   "outputs": [
    {
     "name": "stdout",
     "output_type": "stream",
     "text": [
      "Validation accuracy on large is 66.66666666666666%!\n"
     ]
    }
   ],
   "source": [
    "#get score from test set\n",
    "score = svm_classifier.score(embeddings_test,labels_test_cat)\n",
    "print(f\"Validation accuracy on large is {100*score}%!\")"
   ]
  },
  {
   "cell_type": "code",
   "execution_count": null,
   "metadata": {},
   "outputs": [],
   "source": []
  }
 ],
 "metadata": {
  "kernelspec": {
   "display_name": "Python 3.10.6 64-bit",
   "language": "python",
   "name": "python3"
  },
  "language_info": {
   "codemirror_mode": {
    "name": "ipython",
    "version": 3
   },
   "file_extension": ".py",
   "mimetype": "text/x-python",
   "name": "python",
   "nbconvert_exporter": "python",
   "pygments_lexer": "ipython3",
   "version": "3.10.6"
  },
  "orig_nbformat": 4,
  "vscode": {
   "interpreter": {
    "hash": "e593ac106456af50ce7af38f9671c411b49d6cd90f9b885e167f0f594e09038c"
   }
  }
 },
 "nbformat": 4,
 "nbformat_minor": 2
}
