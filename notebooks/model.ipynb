{
 "cells": [
  {
   "cell_type": "code",
   "execution_count": 1,
   "metadata": {},
   "outputs": [
    {
     "name": "stdout",
     "output_type": "stream",
     "text": [
      "Prediction: +[]+{code} DIRECT_IN+{expression}\n",
      "      \"document\": \"application/x-shockwave-flash\"\n",
      "        \"start\": 9800,\n",
      "  \n"
     ]
    }
   ],
   "source": [
    "import cohere\n",
    "import creds\n",
    "co = cohere.Client(creds.api_key)\n",
    "response = co.generate(\n",
    "  model='f5e7fc4c-bfc8-41ef-a3a2-a2ce2d22b1c9-ft',\n",
    "  prompt='{prompt}',\n",
    "  max_tokens=50,\n",
    "  temperature=0.9,\n",
    "  k=0,\n",
    "  p=0.75,\n",
    "  frequency_penalty=0,\n",
    "  presence_penalty=0,\n",
    "  stop_sequences=[],\n",
    "  return_likelihoods='NONE')\n",
    "print('Prediction: {}'.format(response.generations[0].text))"
   ]
  },
  {
   "cell_type": "code",
   "execution_count": null,
   "metadata": {},
   "outputs": [],
   "source": []
  }
 ],
 "metadata": {
  "kernelspec": {
   "display_name": "Python 3.10.6 64-bit",
   "language": "python",
   "name": "python3"
  },
  "language_info": {
   "codemirror_mode": {
    "name": "ipython",
    "version": 3
   },
   "file_extension": ".py",
   "mimetype": "text/x-python",
   "name": "python",
   "nbconvert_exporter": "python",
   "pygments_lexer": "ipython3",
   "version": "3.10.6"
  },
  "orig_nbformat": 4,
  "vscode": {
   "interpreter": {
    "hash": "e593ac106456af50ce7af38f9671c411b49d6cd90f9b885e167f0f594e09038c"
   }
  }
 },
 "nbformat": 4,
 "nbformat_minor": 2
}
